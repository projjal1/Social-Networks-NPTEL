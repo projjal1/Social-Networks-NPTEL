{
 "cells": [
  {
   "cell_type": "code",
   "execution_count": 5,
   "metadata": {},
   "outputs": [
    {
     "name": "stdout",
     "output_type": "stream",
     "text": [
      "a =  5 b =  10\n"
     ]
    }
   ],
   "source": [
    "a=5\n",
    "b=10\n",
    "print('a = ',a,'b = ',b)"
   ]
  },
  {
   "cell_type": "code",
   "execution_count": 11,
   "metadata": {},
   "outputs": [
    {
     "name": "stdout",
     "output_type": "stream",
     "text": [
      "a =  10 b =  5\n"
     ]
    }
   ],
   "source": [
    "#swapping\n",
    "a,b=b,a\n",
    "print('a = ',a,'b = ',b)"
   ]
  },
  {
   "cell_type": "code",
   "execution_count": 13,
   "metadata": {},
   "outputs": [
    {
     "data": {
      "text/plain": [
       "'Naman'"
      ]
     },
     "execution_count": 13,
     "metadata": {},
     "output_type": "execute_result"
    }
   ],
   "source": [
    "#string\n",
    "name='Naman'\n",
    "name"
   ]
  },
  {
   "cell_type": "code",
   "execution_count": 15,
   "metadata": {},
   "outputs": [
    {
     "name": "stdout",
     "output_type": "stream",
     "text": [
      "0\n",
      "1\n",
      "2\n",
      "3\n",
      "4\n",
      "5\n",
      "6\n",
      "7\n",
      "8\n",
      "9\n",
      "10\n"
     ]
    }
   ],
   "source": [
    "#for loop\n",
    "for i in range(11):\n",
    "    print(i)\n",
    "#range(x,y) where [x,y)"
   ]
  },
  {
   "cell_type": "code",
   "execution_count": 18,
   "metadata": {},
   "outputs": [
    {
     "name": "stdout",
     "output_type": "stream",
     "text": [
      "10\n",
      "12\n",
      "14\n",
      "16\n",
      "18\n",
      "20\n"
     ]
    }
   ],
   "source": [
    "#whule loop\n",
    "k=10\n",
    "while(k<=20):\n",
    "    print(k)\n",
    "    k+=2"
   ]
  },
  {
   "cell_type": "code",
   "execution_count": 17,
   "metadata": {},
   "outputs": [
    {
     "name": "stdout",
     "output_type": "stream",
     "text": [
      "22\n"
     ]
    }
   ],
   "source": [
    "print(k)"
   ]
  },
  {
   "cell_type": "code",
   "execution_count": 19,
   "metadata": {},
   "outputs": [
    {
     "name": "stdout",
     "output_type": "stream",
     "text": [
      "K is greater than 20\n"
     ]
    }
   ],
   "source": [
    "#if-else\n",
    "if (k>=20):\n",
    "    print('K is greater than 20')\n",
    "else:\n",
    "    print('K is less than 20')"
   ]
  },
  {
   "cell_type": "markdown",
   "metadata": {},
   "source": [
    "-------\n",
    "Random library"
   ]
  },
  {
   "cell_type": "code",
   "execution_count": 23,
   "metadata": {},
   "outputs": [
    {
     "name": "stdout",
     "output_type": "stream",
     "text": [
      "3\n",
      "4\n",
      "0\n",
      "7\n",
      "8\n"
     ]
    }
   ],
   "source": [
    "#random numbers\n",
    "import random\n",
    "for i in range(5):\n",
    "    print(random.randrange(0,11))"
   ]
  },
  {
   "cell_type": "code",
   "execution_count": 28,
   "metadata": {},
   "outputs": [
    {
     "name": "stdout",
     "output_type": "stream",
     "text": [
      "0.7894553441657346\n",
      "0.19514986757392283\n",
      "0.9174065553793443\n",
      "0.24409837637559006\n",
      "0.39877716297043275\n"
     ]
    }
   ],
   "source": [
    "# random.random gives any random value(0,1]\n",
    "for i in range(5):\n",
    "    print(random.random())"
   ]
  },
  {
   "cell_type": "code",
   "execution_count": 32,
   "metadata": {},
   "outputs": [
    {
     "name": "stdout",
     "output_type": "stream",
     "text": [
      "7\n"
     ]
    }
   ],
   "source": [
    "# random.<+tab> give you choices of available functions\n",
    "#random.randint(a,b) where[a,b]\n",
    "print(random.randint(1,10))"
   ]
  },
  {
   "cell_type": "markdown",
   "metadata": {},
   "source": [
    "---"
   ]
  },
  {
   "cell_type": "code",
   "execution_count": 42,
   "metadata": {},
   "outputs": [
    {
     "name": "stdout",
     "output_type": "stream",
     "text": [
      "[95, 26, 18, 68, 89]\n"
     ]
    }
   ],
   "source": [
    "L=[]\n",
    "for i in range(5):\n",
    "    L.append(random.randint(10,99))\n",
    "print(L)"
   ]
  },
  {
   "cell_type": "code",
   "execution_count": 43,
   "metadata": {},
   "outputs": [
    {
     "data": {
      "text/plain": [
       "[89, 68, 18, 26, 95]"
      ]
     },
     "execution_count": 43,
     "metadata": {},
     "output_type": "execute_result"
    }
   ],
   "source": [
    "L.reverse()\n",
    "L"
   ]
  },
  {
   "cell_type": "code",
   "execution_count": 44,
   "metadata": {},
   "outputs": [
    {
     "data": {
      "text/plain": [
       "[89, 68, 18, 95]"
      ]
     },
     "execution_count": 44,
     "metadata": {},
     "output_type": "execute_result"
    }
   ],
   "source": [
    "L.remove(26)\n",
    "L"
   ]
  },
  {
   "cell_type": "code",
   "execution_count": 46,
   "metadata": {},
   "outputs": [
    {
     "data": {
      "text/plain": [
       "[18, 68, 89, 95]"
      ]
     },
     "execution_count": 46,
     "metadata": {},
     "output_type": "execute_result"
    }
   ],
   "source": [
    "L.sort()\n",
    "L"
   ]
  },
  {
   "cell_type": "markdown",
   "metadata": {},
   "source": [
    "----"
   ]
  },
  {
   "cell_type": "markdown",
   "metadata": {},
   "source": [
    "Birthday Paradox"
   ]
  },
  {
   "cell_type": "code",
   "execution_count": 49,
   "metadata": {},
   "outputs": [],
   "source": [
    "# in 60 random people there's a 99.4% chance of 2 people having same birthdays"
   ]
  },
  {
   "cell_type": "code",
   "execution_count": 52,
   "metadata": {},
   "outputs": [
    {
     "name": "stdout",
     "output_type": "stream",
     "text": [
      "[10, 20, 21, 33, 36, 42, 49, 54, 60, 65, 66, 66, 69, 72, 74, 77, 81, 81, 84, 84, 93, 95, 103, 121, 123, 137, 152, 162, 162, 162, 167, 175, 178, 182, 190, 199, 206, 223, 223, 224, 233, 237, 241, 260, 264, 282, 292, 293, 293, 314, 316, 318, 323, 325, 326, 327, 345, 350, 359, 362]\n"
     ]
    }
   ],
   "source": [
    "bday=[]\n",
    "for i in range(60):\n",
    "    bday.append(random.randint(1,365))\n",
    "bday.sort()\n",
    "print(bday)"
   ]
  },
  {
   "cell_type": "markdown",
   "metadata": {},
   "source": [
    "----"
   ]
  },
  {
   "cell_type": "code",
   "execution_count": 58,
   "metadata": {},
   "outputs": [
    {
     "name": "stdout",
     "output_type": "stream",
     "text": [
      "5.00099194608154 7.4375342893098\n"
     ]
    },
    {
     "data": {
      "text/plain": [
       "12.43852623539134"
      ]
     },
     "execution_count": 58,
     "metadata": {},
     "output_type": "execute_result"
    }
   ],
   "source": [
    "# function in making\n",
    "def sumup():\n",
    "    a=random.random()\n",
    "    b=random.random()\n",
    "    print(a*10,b*10)\n",
    "    return (a+b)*10\n",
    "sumup()"
   ]
  },
  {
   "cell_type": "markdown",
   "metadata": {},
   "source": [
    "----"
   ]
  }
 ],
 "metadata": {
  "kernelspec": {
   "display_name": "Python 3",
   "language": "python",
   "name": "python3"
  },
  "language_info": {
   "codemirror_mode": {
    "name": "ipython",
    "version": 3
   },
   "file_extension": ".py",
   "mimetype": "text/x-python",
   "name": "python",
   "nbconvert_exporter": "python",
   "pygments_lexer": "ipython3",
   "version": "3.7.6"
  }
 },
 "nbformat": 4,
 "nbformat_minor": 4
}

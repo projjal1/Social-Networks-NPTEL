{
 "cells": [
  {
   "cell_type": "markdown",
   "metadata": {},
   "source": [
    "1.  If string = 'PRERAJULISATION', what will be the output of string[3:7] (written in\n",
    "Python3)?"
   ]
  },
  {
   "cell_type": "code",
   "execution_count": 1,
   "metadata": {},
   "outputs": [
    {
     "data": {
      "text/plain": [
       "'PRERAJULISATION'"
      ]
     },
     "execution_count": 1,
     "metadata": {},
     "output_type": "execute_result"
    }
   ],
   "source": [
    "string = 'PRERAJULISATION'\n",
    "string[:]"
   ]
  },
  {
   "cell_type": "markdown",
   "metadata": {},
   "source": [
    "2.  Let L = [\"There\", \"are\", [\"eight\", \"elements\", \"in\", \"this\"],\n",
    "[[\"list\"]], []] be the list. What will be\n",
    "the output of len(L), written in Python3?\n"
   ]
  },
  {
   "cell_type": "code",
   "execution_count": 7,
   "metadata": {},
   "outputs": [
    {
     "data": {
      "text/plain": [
       "5"
      ]
     },
     "execution_count": 7,
     "metadata": {},
     "output_type": "execute_result"
    }
   ],
   "source": [
    "L = [\"There\", \"are\", [\"eight\", \"elements\", \"in\", \"this\"], [[\"list\"]],[]]\n",
    "len(L)"
   ]
  },
  {
   "cell_type": "markdown",
   "metadata": {},
   "source": [
    "3.  What is the output of L[-2] if L = [-4, -3, -2, -1, 0, 1, 2, 3, 4]?"
   ]
  },
  {
   "cell_type": "code",
   "execution_count": 8,
   "metadata": {},
   "outputs": [
    {
     "data": {
      "text/plain": [
       "3"
      ]
     },
     "execution_count": 8,
     "metadata": {},
     "output_type": "execute_result"
    }
   ],
   "source": [
    "L = [-4, -3, -2, -1, 0, 1, 2, 3, 4]\n",
    "L[-2]"
   ]
  },
  {
   "cell_type": "markdown",
   "metadata": {},
   "source": [
    "4.  Total number of graphs (undirected and without loops) possible on n vertices is:"
   ]
  },
  {
   "cell_type": "code",
   "execution_count": 6,
   "metadata": {},
   "outputs": [
    {
     "name": "stdout",
     "output_type": "stream",
     "text": [
      "2(n choose 2)\n"
     ]
    }
   ],
   "source": [
    "print('2(n choose 2)')"
   ]
  },
  {
   "cell_type": "markdown",
   "metadata": {},
   "source": [
    "5.  If d = {0:'a', 1:'b', 2:'c', 3:'d'} is the dictionary then which among the\n",
    "following codes (written in Python3) would\n",
    "reverse keys and values of d?"
   ]
  },
  {
   "cell_type": "code",
   "execution_count": 3,
   "metadata": {},
   "outputs": [
    {
     "name": "stdout",
     "output_type": "stream",
     "text": [
      "All the above \n",
      " {'a': 0, 'b': 1, 'c': 2, 'd': 3} \n",
      " {'a': 0, 'b': 1, 'c': 2, 'd': 3} \n",
      " {'a': 0, 'b': 1, 'c': 2, 'd': 3}\n"
     ]
    }
   ],
   "source": [
    "d = {0:'a', 1:'b', 2:'c', 3:'d'}\n",
    "x={v:k for k,v in d.items()}\n",
    "y={d[i]:i for i in range(4)}\n",
    "z={d[i]:i for i in d}\n",
    "print('All the above','\\n',x,'\\n',y,'\\n',z)"
   ]
  },
  {
   "cell_type": "markdown",
   "metadata": {},
   "source": [
    "6.  Total number of possible edges on a graph (undirected and without loops) on vertices is not:"
   ]
  },
  {
   "cell_type": "code",
   "execution_count": 8,
   "metadata": {},
   "outputs": [
    {
     "name": "stdout",
     "output_type": "stream",
     "text": [
      "1 + 2 + 3 + ⋅ ⋅ ⋅ + (n − 1) + n\n"
     ]
    }
   ],
   "source": [
    "print('1 + 2 + 3 + ⋅ ⋅ ⋅ + (n − 1) + n')"
   ]
  },
  {
   "cell_type": "markdown",
   "metadata": {},
   "source": [
    "7.  Let t be a tuple (\"Happy\", \"Learning\", \"from\"). What will be the output of\n",
    "t.append((\"IIT Ropar\")), written in Python3?"
   ]
  },
  {
   "cell_type": "code",
   "execution_count": 11,
   "metadata": {},
   "outputs": [
    {
     "name": "stdout",
     "output_type": "stream",
     "text": [
      "Attribute Error\n"
     ]
    },
    {
     "ename": "AttributeError",
     "evalue": "'tuple' object has no attribute 'append'",
     "output_type": "error",
     "traceback": [
      "\u001b[1;31m---------------------------------------------------------------------------\u001b[0m",
      "\u001b[1;31mAttributeError\u001b[0m                            Traceback (most recent call last)",
      "\u001b[1;32m<ipython-input-11-dc7b0152f2f3>\u001b[0m in \u001b[0;36m<module>\u001b[1;34m\u001b[0m\n\u001b[0;32m      1\u001b[0m \u001b[0mprint\u001b[0m\u001b[1;33m(\u001b[0m\u001b[1;34m'Attribute Error'\u001b[0m\u001b[1;33m)\u001b[0m\u001b[1;33m\u001b[0m\u001b[1;33m\u001b[0m\u001b[0m\n\u001b[0;32m      2\u001b[0m \u001b[0mt\u001b[0m\u001b[1;33m=\u001b[0m\u001b[1;33m(\u001b[0m\u001b[1;34m\"Happy\"\u001b[0m\u001b[1;33m,\u001b[0m \u001b[1;34m\"Learning\"\u001b[0m\u001b[1;33m,\u001b[0m \u001b[1;34m\"from\"\u001b[0m\u001b[1;33m)\u001b[0m\u001b[1;33m\u001b[0m\u001b[1;33m\u001b[0m\u001b[0m\n\u001b[1;32m----> 3\u001b[1;33m \u001b[0mt\u001b[0m\u001b[1;33m.\u001b[0m\u001b[0mappend\u001b[0m\u001b[1;33m(\u001b[0m\u001b[1;33m(\u001b[0m\u001b[1;34m\"IIT Roopar\"\u001b[0m\u001b[1;33m)\u001b[0m\u001b[1;33m)\u001b[0m\u001b[1;33m\u001b[0m\u001b[1;33m\u001b[0m\u001b[0m\n\u001b[0m\u001b[0;32m      4\u001b[0m \u001b[0mprint\u001b[0m\u001b[1;33m(\u001b[0m\u001b[1;34m'Attribute Error'\u001b[0m\u001b[1;33m)\u001b[0m\u001b[1;33m\u001b[0m\u001b[1;33m\u001b[0m\u001b[0m\n\u001b[0;32m      5\u001b[0m \u001b[0mt\u001b[0m\u001b[1;33m\u001b[0m\u001b[1;33m\u001b[0m\u001b[0m\n",
      "\u001b[1;31mAttributeError\u001b[0m: 'tuple' object has no attribute 'append'"
     ]
    }
   ],
   "source": [
    "print('Attribute Error')\n",
    "t=(\"Happy\", \"Learning\", \"from\")\n",
    "t.append((\"IIT Roopar\"))\n",
    "print('Attribute Error')\n",
    "t"
   ]
  },
  {
   "cell_type": "markdown",
   "metadata": {},
   "source": [
    "8.  For integers , let be a complete graph on vertices such that each vertex is labeled\n",
    "by a distinct number , and\n",
    "each edge is labeled by the sum of its endpoint labels. The sum of all the edge labels is:"
   ]
  },
  {
   "cell_type": "code",
   "execution_count": 12,
   "metadata": {},
   "outputs": [
    {
     "name": "stdout",
     "output_type": "stream",
     "text": [
      "n(n-1)(n+1)/2\n"
     ]
    }
   ],
   "source": [
    "print('n(n-1)(n+1)/2')"
   ]
  },
  {
   "cell_type": "markdown",
   "metadata": {},
   "source": [
    "9.   1 point\n",
    "10) 1 point\n",
    "True or False:\n",
    "There exists a graph with 5 vertices where each vertex has degree 3."
   ]
  },
  {
   "cell_type": "code",
   "execution_count": 14,
   "metadata": {},
   "outputs": [
    {
     "name": "stdout",
     "output_type": "stream",
     "text": [
      "False\n"
     ]
    }
   ],
   "source": [
    "print(False)"
   ]
  },
  {
   "cell_type": "markdown",
   "metadata": {},
   "source": [
    "10.  Let be a graph with vertices. We label these vertices as There is an\n",
    "edge between a vertex and a vertex if mod\n",
    ". How many edges are there in the graph ?"
   ]
  },
  {
   "cell_type": "code",
   "execution_count": 15,
   "metadata": {},
   "outputs": [
    {
     "name": "stdout",
     "output_type": "stream",
     "text": [
      "n-1\n"
     ]
    }
   ],
   "source": [
    "print('n-1')"
   ]
  }
 ],
 "metadata": {
  "kernelspec": {
   "display_name": "Python 3",
   "language": "python",
   "name": "python3"
  },
  "language_info": {
   "codemirror_mode": {
    "name": "ipython",
    "version": 3
   },
   "file_extension": ".py",
   "mimetype": "text/x-python",
   "name": "python",
   "nbconvert_exporter": "python",
   "pygments_lexer": "ipython3",
   "version": "3.7.6"
  }
 },
 "nbformat": 4,
 "nbformat_minor": 4
}
